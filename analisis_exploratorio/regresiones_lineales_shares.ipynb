{
 "cells": [
  {
   "metadata": {
    "ExecuteTime": {
     "end_time": "2025-09-26T02:30:21.618183Z",
     "start_time": "2025-09-26T02:30:21.614826Z"
    }
   },
   "cell_type": "code",
   "source": [
    "import numpy as np\n",
    "import plotly.express as px\n",
    "import plotly.graph_objects as go\n",
    "import plotly.io as pio\n",
    "from sklearn.linear_model import LinearRegression\n",
    "from analisis_exploratorio.funciones import *"
   ],
   "id": "86354b412679937b",
   "outputs": [],
   "execution_count": 57
  },
  {
   "metadata": {
    "ExecuteTime": {
     "end_time": "2025-09-26T01:44:45.837470Z",
     "start_time": "2025-09-26T01:44:45.472498Z"
    }
   },
   "cell_type": "code",
   "source": [
    "df = cargar_datos()\n",
    "dict_atributos = diccionario_tipos_atributos()"
   ],
   "id": "fc3a5660095a4601",
   "outputs": [],
   "execution_count": 5
  },
  {
   "metadata": {
    "ExecuteTime": {
     "end_time": "2025-09-26T02:38:29.280578Z",
     "start_time": "2025-09-26T02:38:29.274073Z"
    }
   },
   "cell_type": "code",
   "source": [
    "def graficar_regresion(x, y):\n",
    "    # nombres de columnas si vienen de Series\n",
    "    x_name = getattr(x, \"name\", \"x\")\n",
    "    y_name = getattr(y, \"name\", \"y\")\n",
    "\n",
    "    X = np.array(x).reshape(-1, 1)\n",
    "    modelo = LinearRegression()\n",
    "    modelo.fit(X, y)\n",
    "\n",
    "    pendiente = modelo.coef_[0]\n",
    "    interseccion = modelo.intercept_\n",
    "\n",
    "    # línea de regresión\n",
    "    x_line = np.linspace(x.min(), x.max(), 100).reshape(-1, 1)\n",
    "    y_line = modelo.predict(x_line)\n",
    "\n",
    "    # scatter\n",
    "    fig = px.scatter(\n",
    "        x=x,\n",
    "        y=y,\n",
    "        opacity=1,\n",
    "        title=f\"Regresión lineal: {y_name} ~ {x_name}\",\n",
    "        labels={\"x\": x_name, \"y\": y_name}\n",
    "    )\n",
    "\n",
    "    # agregar línea de regresión\n",
    "    fig.add_trace(\n",
    "        go.Scatter(\n",
    "            x=x_line.flatten(),\n",
    "            y=y_line,\n",
    "            mode=\"lines\",\n",
    "            name=\"Recta de regresión\",\n",
    "            line=dict(color=\"red\", width=3)\n",
    "        )\n",
    "    )\n",
    "\n",
    "    # agregar anotación con la ecuación\n",
    "    fig.add_annotation(\n",
    "        x=1,  # posición horizontal (podes ajustar)\n",
    "        y=1,  # posición vertical (podes ajustar)\n",
    "        xref=\"paper\",\n",
    "        yref=\"paper\",\n",
    "        text=f\"y = {pendiente:.2f}x + {interseccion:.2f}\",\n",
    "        showarrow=False,\n",
    "        font=dict(color=\"blue\", size=14),\n",
    "        bgcolor=\"white\",\n",
    "        bordercolor=\"blue\",\n",
    "        borderwidth=1\n",
    "    )\n",
    "\n",
    "    fig.update_layout(\n",
    "        paper_bgcolor=\"black\",\n",
    "        plot_bgcolor=\"black\",\n",
    "    )\n",
    "    pio.write_html(fig, file=f\"./graficos/regresiones_lineales_shares/regresion_shares-{x_name}.html\", auto_open=False, full_html=True, include_plotlyjs='cdn')\n",
    "    #fig.show() # Descomentar para ver en jupyter"
   ],
   "id": "ac9cfff9c4fd1199",
   "outputs": [],
   "execution_count": 74
  },
  {
   "metadata": {
    "ExecuteTime": {
     "end_time": "2025-09-26T02:34:09.447083Z",
     "start_time": "2025-09-26T02:34:09.346342Z"
    }
   },
   "cell_type": "code",
   "source": "graficar_regresion(df[\"num_imgs\"], df[\"shares\"])",
   "id": "eec7d36f8d45f08a",
   "outputs": [],
   "execution_count": 71
  },
  {
   "metadata": {
    "ExecuteTime": {
     "end_time": "2025-09-26T02:34:23.205421Z",
     "start_time": "2025-09-26T02:34:21.578748Z"
    }
   },
   "cell_type": "code",
   "source": [
    "#Grafico por grupo de atributos\n",
    "for atributo in dict_atributos['atributos_cantidad']:\n",
    "    graficar_regresion(df[atributo], df[\"shares\"])"
   ],
   "id": "db65dc04eaeac59f",
   "outputs": [],
   "execution_count": 72
  },
  {
   "metadata": {
    "ExecuteTime": {
     "end_time": "2025-09-26T02:37:17.981957Z",
     "start_time": "2025-09-26T02:37:08.388351Z"
    }
   },
   "cell_type": "code",
   "source": [
    "# Grafico de todos los atributos numericos vs shares\n",
    "for grupo_atr, atributos in dict_atributos.items():\n",
    "    for atributo in atributos:\n",
    "        graficar_regresion(df[atributo], df[\"shares\"])"
   ],
   "id": "25b9c769a18910c",
   "outputs": [],
   "execution_count": 73
  }
 ],
 "metadata": {},
 "nbformat": 4,
 "nbformat_minor": 5
}
