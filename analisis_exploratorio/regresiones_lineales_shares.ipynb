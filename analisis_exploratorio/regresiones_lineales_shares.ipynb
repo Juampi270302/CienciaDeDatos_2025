{
 "cells": [
  {
   "metadata": {
    "ExecuteTime": {
     "end_time": "2025-09-25T22:58:23.410602Z",
     "start_time": "2025-09-25T22:58:22.081720Z"
    }
   },
   "cell_type": "code",
   "source": [
    "import numpy as np\n",
    "import plotly.express as px\n",
    "import plotly.graph_objects as go\n",
    "from sklearn.linear_model import LinearRegression\n",
    "from analisis_exploratorio.funciones import *"
   ],
   "id": "86354b412679937b",
   "outputs": [],
   "execution_count": 2
  },
  {
   "metadata": {
    "ExecuteTime": {
     "end_time": "2025-09-25T22:58:24.256527Z",
     "start_time": "2025-09-25T22:58:23.971595Z"
    }
   },
   "cell_type": "code",
   "source": "df = cargar_datos()",
   "id": "fc3a5660095a4601",
   "outputs": [],
   "execution_count": 3
  },
  {
   "metadata": {
    "ExecuteTime": {
     "end_time": "2025-09-25T22:58:25.259305Z",
     "start_time": "2025-09-25T22:58:25.253426Z"
    }
   },
   "cell_type": "code",
   "source": [
    "def graficar_regresion(x, y):\n",
    "    # nombres de columnas si vienen de Series\n",
    "    x_name = getattr(x, \"name\", \"x\")\n",
    "    y_name = getattr(y, \"name\", \"y\")\n",
    "\n",
    "    X = np.array(x).reshape(-1, 1)\n",
    "    modelo = LinearRegression()\n",
    "    modelo.fit(X, y)\n",
    "\n",
    "    pendiente = modelo.coef_[0]\n",
    "    interseccion = modelo.intercept_\n",
    "\n",
    "    # línea de regresión\n",
    "    x_line = np.linspace(x.min(), x.max(), 100).reshape(-1, 1)\n",
    "    y_line = modelo.predict(x_line)\n",
    "\n",
    "    # scatter\n",
    "    fig = px.scatter(\n",
    "        x=x,\n",
    "        y=y,\n",
    "        opacity=1,\n",
    "        title=f\"Regresión lineal: {y_name} ~ {x_name}\",\n",
    "        labels={\"x\": x_name, \"y\": y_name}\n",
    "    )\n",
    "\n",
    "    # agregar línea de regresión\n",
    "    fig.add_trace(\n",
    "        go.Scatter(\n",
    "            x=x_line.flatten(),\n",
    "            y=y_line,\n",
    "            mode=\"lines\",\n",
    "            name=\"Recta de regresión\",\n",
    "            line=dict(color=\"red\", width=3)\n",
    "        )\n",
    "    )\n",
    "\n",
    "    # agregar anotación con la ecuación\n",
    "    fig.add_annotation(\n",
    "        x=1,  # posición horizontal (podes ajustar)\n",
    "        y=1,  # posición vertical (podes ajustar)\n",
    "        xref=\"paper\",\n",
    "        yref=\"paper\",\n",
    "        text=f\"y = {pendiente:.2f}x + {interseccion:.2f}\",\n",
    "        showarrow=False,\n",
    "        font=dict(color=\"blue\", size=14),\n",
    "        bgcolor=\"white\",\n",
    "        bordercolor=\"blue\",\n",
    "        borderwidth=1\n",
    "    )\n",
    "\n",
    "    fig.show(renderer=\"browser\")"
   ],
   "id": "ac9cfff9c4fd1199",
   "outputs": [],
   "execution_count": 4
  },
  {
   "metadata": {
    "ExecuteTime": {
     "end_time": "2025-09-25T22:58:41.978495Z",
     "start_time": "2025-09-25T22:58:40.929637Z"
    }
   },
   "cell_type": "code",
   "source": "graficar_regresion(df[\"num_imgs\"], df[\"shares\"])",
   "id": "eec7d36f8d45f08a",
   "outputs": [],
   "execution_count": 6
  },
  {
   "metadata": {
    "jupyter": {
     "is_executing": true
    },
    "ExecuteTime": {
     "end_time": "2025-09-25T22:58:10.748792100Z",
     "start_time": "2025-09-25T22:55:59.974656Z"
    }
   },
   "cell_type": "code",
   "source": [
    "# Usar solo si tenes mas RAM que IQ\n",
    "for grupo_atr, atributos in diccionario_tipos_atributos().items():\n",
    "    for atributo in atributos:\n",
    "        graficar_regresion(df[atributo], df[\"shares\"])"
   ],
   "id": "e4851e7bdc7dce4d",
   "outputs": [],
   "execution_count": null
  }
 ],
 "metadata": {},
 "nbformat": 4,
 "nbformat_minor": 5
}
