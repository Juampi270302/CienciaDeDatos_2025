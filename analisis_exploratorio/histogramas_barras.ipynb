{
 "cells": [
  {
   "cell_type": "code",
   "id": "initial_id",
   "metadata": {
    "collapsed": true
   },
   "source": [
    "import plotly.express as px\n",
    "import importlib\n",
    "from analisis_exploratorio import funciones\n",
    "importlib.reload(funciones)\n",
    "from funciones import *"
   ],
   "outputs": [],
   "execution_count": null
  },
  {
   "metadata": {},
   "cell_type": "code",
   "source": "df = cargar_datos()",
   "id": "c8668566d444c231",
   "outputs": [],
   "execution_count": null
  },
  {
   "metadata": {},
   "cell_type": "code",
   "source": "dic_atributos = diccionario_tipos_atributos()",
   "id": "7bc2dadf32796160",
   "outputs": [],
   "execution_count": null
  },
  {
   "metadata": {},
   "cell_type": "markdown",
   "source": "## Distribuciones (Histogramas y graficos de barras) de atributos numericos y booleanos",
   "id": "778a94bf60aeb862"
  },
  {
   "metadata": {},
   "cell_type": "markdown",
   "source": "### Graficos de distribucion de los atributos numericos (histogramas)",
   "id": "2e894fa31331715b"
  },
  {
   "metadata": {},
   "cell_type": "code",
   "source": [
    "def dibujar_histograma(atributos, df):\n",
    "    for atributo in atributos:\n",
    "        fig = px.histogram(df, x=atributo, nbins=25, title=f'Distribución de {atributo}')\n",
    "        fig.show()"
   ],
   "id": "510d5e7b8ef7d17f",
   "outputs": [],
   "execution_count": null
  },
  {
   "metadata": {},
   "cell_type": "markdown",
   "source": "#### Histogramas de atributos de cantidad",
   "id": "415a8ae480deb2cd"
  },
  {
   "metadata": {},
   "cell_type": "code",
   "source": "dibujar_histograma(dic_atributos['atributos_cantidad'], df)",
   "id": "44ec67fb3f5ab10a",
   "outputs": [],
   "execution_count": null
  },
  {
   "metadata": {},
   "cell_type": "markdown",
   "source": "#### Histogramas de atributos de min, max y avg de terceros",
   "id": "848c129492dd4ee3"
  },
  {
   "metadata": {},
   "cell_type": "code",
   "source": "dibujar_histograma(dic_atributos['atributos_min_max_avg_terceros'], df)",
   "id": "8d11d09e58e20203",
   "outputs": [],
   "execution_count": null
  },
  {
   "metadata": {},
   "cell_type": "markdown",
   "source": "#### Histogramas de atributos de polaridad, sentimiento y subjetividad",
   "id": "500dc62811c4000"
  },
  {
   "metadata": {},
   "cell_type": "code",
   "source": "dibujar_histograma(dic_atributos['atributos_polaridad_sentimiento_subjetividad'], df)",
   "id": "7c6974877324222d",
   "outputs": [],
   "execution_count": null
  },
  {
   "metadata": {},
   "cell_type": "markdown",
   "source": "#### Histogramas de atributos de cercania a temas LDA",
   "id": "7dd561170c57511d"
  },
  {
   "metadata": {},
   "cell_type": "code",
   "source": "dibujar_histograma(dic_atributos['atributos_cercania_tema'], df)",
   "id": "ed3c3deb03bf398a",
   "outputs": [],
   "execution_count": null
  },
  {
   "metadata": {},
   "cell_type": "markdown",
   "source": "### Distribucion de publicaciones en los dias de semana - grafico de barras",
   "id": "8034eab5b42580e6"
  },
  {
   "metadata": {},
   "cell_type": "code",
   "source": [
    "conteo_dias = df[dic_atributos['atributos_dia_semana']].sum().reset_index()\n",
    "conteo_dias.columns = ['dia', 'cantidad_publicaciones']\n",
    "\n",
    "fig = px.bar(conteo_dias, x='dia', y='cantidad_publicaciones')\n",
    "fig.show()"
   ],
   "id": "e7388adc07508b27",
   "outputs": [],
   "execution_count": null
  },
  {
   "metadata": {},
   "cell_type": "markdown",
   "source": "### Distribucion de publicaciones por canal tematico - grafico de barras",
   "id": "e58c409b0a17b342"
  },
  {
   "metadata": {},
   "cell_type": "code",
   "source": [
    "conteo_temas = df[dic_atributos['atributos_tematica']].sum().reset_index()\n",
    "conteo_temas.columns = ['tema', 'cantidad_por_tema']\n",
    "\n",
    "fig = px.bar(conteo_temas, x='tema', y='cantidad_por_tema')\n",
    "fig.show()"
   ],
   "id": "99f3ec8f3fafd7a1",
   "outputs": [],
   "execution_count": null
  }
 ],
 "metadata": {
  "kernelspec": {
   "display_name": "Python 3",
   "language": "python",
   "name": "python3"
  },
  "language_info": {
   "codemirror_mode": {
    "name": "ipython",
    "version": 2
   },
   "file_extension": ".py",
   "mimetype": "text/x-python",
   "name": "python",
   "nbconvert_exporter": "python",
   "pygments_lexer": "ipython2",
   "version": "2.7.6"
  }
 },
 "nbformat": 4,
 "nbformat_minor": 5
}
