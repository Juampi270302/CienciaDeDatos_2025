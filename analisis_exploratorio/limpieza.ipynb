{
 "cells": [
  {
   "metadata": {},
   "cell_type": "markdown",
   "source": "# Limpieza de datos",
   "id": "3f672d3cc499f1e9"
  },
  {
   "metadata": {},
   "cell_type": "markdown",
   "source": "## Imports y funciones a usar",
   "id": "d05cbfea99a8181c"
  },
  {
   "cell_type": "code",
   "id": "initial_id",
   "metadata": {
    "collapsed": true,
    "ExecuteTime": {
     "end_time": "2025-10-28T21:10:00.252247Z",
     "start_time": "2025-10-28T21:10:00.249673Z"
    }
   },
   "source": [
    "import numpy as np\n",
    "import funciones as fn\n",
    "import math"
   ],
   "outputs": [],
   "execution_count": 15
  },
  {
   "metadata": {
    "ExecuteTime": {
     "end_time": "2025-10-28T21:08:24.846798Z",
     "start_time": "2025-10-28T21:08:24.843523Z"
    }
   },
   "cell_type": "code",
   "source": [
    "def datos_boxplot(atributo):\n",
    "    Q1 = df[atributo].quantile(0.25)\n",
    "    Q3 = df[atributo].quantile(0.75)\n",
    "    Q2 = df[atributo].quantile(0.50)\n",
    "    minimo = df[atributo].min()\n",
    "    maximo = df[atributo].max()\n",
    "    IQR = Q3 - Q1\n",
    "    limite_inferior = Q1 - 1.5 * IQR if (Q1 - 1.5 * IQR) > 0 else 0\n",
    "    limite_superior = Q3 + 1.5 * IQR\n",
    "    return {\"q1\": Q1, \"q2\": Q2, \"q3\": Q3, \"iqr\": IQR, \"limite_inferior\": limite_inferior, \"limite_superior\": limite_superior, \"minimo\": minimo, \"maximo\": maximo}"
   ],
   "id": "4a7dfcef1dae4ee9",
   "outputs": [],
   "execution_count": 2
  },
  {
   "metadata": {
    "ExecuteTime": {
     "end_time": "2025-10-28T21:08:27.149609Z",
     "start_time": "2025-10-28T21:08:27.146990Z"
    }
   },
   "cell_type": "code",
   "source": [
    "def round_away_from_zero_int(n):\n",
    "    return math.floor(n + 0.5) if n >= 0 else math.ceil(n - 0.5)"
   ],
   "id": "211c4f4f6ff6ea9d",
   "outputs": [],
   "execution_count": 3
  },
  {
   "metadata": {
    "ExecuteTime": {
     "end_time": "2025-10-28T21:10:02.650783Z",
     "start_time": "2025-10-28T21:10:02.460912Z"
    }
   },
   "cell_type": "code",
   "source": [
    "df = fn.cargar_datos()\n",
    "inicial = df.shape\n",
    "df.shape"
   ],
   "id": "85a40270f5c62105",
   "outputs": [
    {
     "data": {
      "text/plain": [
       "(39644, 61)"
      ]
     },
     "execution_count": 16,
     "metadata": {},
     "output_type": "execute_result"
    }
   ],
   "execution_count": 16
  },
  {
   "metadata": {},
   "cell_type": "markdown",
   "source": "## Limpieza vertical (Articulos)",
   "id": "6dcdf72aabb19a36"
  },
  {
   "metadata": {},
   "cell_type": "markdown",
   "source": "### Datos boxplot del atributo \"n_tokens_content\" (cantidad de tokens en el contenido del articulo) y n_tokens_title (cantidad de tokens en el titulo del articulo)",
   "id": "46fab37629d16189"
  },
  {
   "metadata": {},
   "cell_type": "markdown",
   "source": "#### n_tokens_content - cantidad de tokens en el contenido del articulo",
   "id": "e6d50125dce8b88c"
  },
  {
   "metadata": {
    "ExecuteTime": {
     "end_time": "2025-10-28T21:10:11.761614Z",
     "start_time": "2025-10-28T21:10:11.752409Z"
    }
   },
   "cell_type": "code",
   "source": [
    "#Q1, Q2, Q3, IQR, limite_inferior, limite_superior, minimo, maximo = datos_boxplot(\"n_tokens_content\")\n",
    "dict_resultado_tc = datos_boxplot(\"n_tokens_content\")\n",
    "print(f\"Q1: {dict_resultado_tc[\"q1\"]},\"\n",
    "      f\"Q2: {dict_resultado_tc[\"q2\"]},\"\n",
    "      f\"Q3: {dict_resultado_tc[\"q3\"]}, \"\n",
    "      f\"IQR: {dict_resultado_tc[\"iqr\"]}\")\n",
    "print(f\"Limite inferior: {dict_resultado_tc[\"limite_inferior\"]}, \"\n",
    "      f\"Limite superior: {dict_resultado_tc[\"limite_superior\"]}\")\n",
    "print(f\"Minimo: {dict_resultado_tc[\"minimo\"]}, Maximo: {dict_resultado_tc[\"maximo\"]}\")"
   ],
   "id": "54b191ee2a6ca014",
   "outputs": [
    {
     "name": "stdout",
     "output_type": "stream",
     "text": [
      "Q1: 246.0,Q2: 409.0,Q3: 716.0, IQR: 470.0\n",
      "Limite inferior: 0, Limite superior: 1421.0\n",
      "Minimo: 0.0, Maximo: 8474.0\n"
     ]
    }
   ],
   "execution_count": 17
  },
  {
   "metadata": {},
   "cell_type": "markdown",
   "source": [
    "El limite inferior se ajusta a 0 ya que no puede haber valores negativos en la cantidad de tokens.<br>\n",
    "Vemos que hay artuculos con 0 tokens en el contenido."
   ],
   "id": "94140e0e4df89609"
  },
  {
   "metadata": {},
   "cell_type": "markdown",
   "source": "#### n_tokens_title - cantidad de tokens en el titulo del articulo",
   "id": "17bce69e18fd7572"
  },
  {
   "metadata": {
    "ExecuteTime": {
     "end_time": "2025-10-28T21:10:18.102365Z",
     "start_time": "2025-10-28T21:10:18.093758Z"
    }
   },
   "cell_type": "code",
   "source": [
    "dict_resultado_tt = datos_boxplot(\"n_tokens_title\")\n",
    "print(f\"Q1: {dict_resultado_tt[\"q1\"]}, \"\n",
    "      f\"Q2: {dict_resultado_tt[\"q2\"]}, \"\n",
    "      f\"Q3: {dict_resultado_tt[\"q3\"]}, \"\n",
    "      f\"IQR: {dict_resultado_tt[\"iqr\"]}\")\n",
    "print(f\"Limite inferior: {dict_resultado_tt[\"limite_inferior\"]}, \"\n",
    "      f\"Limite superior: {dict_resultado_tt[\"limite_superior\"]}\")\n",
    "print(f\"Minimo: {dict_resultado_tt[\"minimo\"]}, \"\n",
    "      f\"Maximo: {dict_resultado_tt[\"maximo\"]}\")"
   ],
   "id": "2517582e9cac9169",
   "outputs": [
    {
     "name": "stdout",
     "output_type": "stream",
     "text": [
      "Q1: 9.0, Q2: 10.0, Q3: 12.0, IQR: 3.0\n",
      "Limite inferior: 4.5, Limite superior: 16.5\n",
      "Minimo: 2.0, Maximo: 23.0\n"
     ]
    }
   ],
   "execution_count": 18
  },
  {
   "metadata": {},
   "cell_type": "markdown",
   "source": "Aqui vemos que no hay titulos con 0 tokens.",
   "id": "6f1dcc84f35fd712"
  },
  {
   "metadata": {},
   "cell_type": "markdown",
   "source": "### Limpieza de articulos en base a los calculos anteriores",
   "id": "7c0f2d79b9eb072c"
  },
  {
   "metadata": {},
   "cell_type": "markdown",
   "source": "#### Limpieza en base a n_tokens_content",
   "id": "3dc7b225c0a08d84"
  },
  {
   "metadata": {
    "ExecuteTime": {
     "end_time": "2025-10-28T21:10:26.015017Z",
     "start_time": "2025-10-28T21:10:25.997098Z"
    }
   },
   "cell_type": "code",
   "source": [
    "antes = df.shape[0]\n",
    "atributo = \"n_tokens_content\"\n",
    "mask = (df[atributo] > dict_resultado_tc[\"limite_inferior\"]) & (df[atributo] <= dict_resultado_tc[\"limite_superior\"])\n",
    "df = df[mask].reset_index(drop=True)\n",
    "despues = df.shape[0]\n",
    "print(f\"Antes: {antes} articulos, Despues: {despues} articulos, Eliminados: {antes-despues} articulos\")\n",
    "print(f\"Nuevo minimo de {atributo}: {df[atributo].min()} \\n\"\n",
    "      f\"Nuevo maximo de {atributo}: {df[atributo].max()}\")"
   ],
   "id": "a2df9a0e1b6cfeb7",
   "outputs": [
    {
     "name": "stdout",
     "output_type": "stream",
     "text": [
      "Antes: 39644 articulos, Despues: 36530 articulos, Eliminados: 3114 articulos\n",
      "Nuevo minimo de n_tokens_content: 18.0 \n",
      "Nuevo maximo de n_tokens_content: 1421.0\n"
     ]
    }
   ],
   "execution_count": 19
  },
  {
   "metadata": {},
   "cell_type": "markdown",
   "source": "#### Limpieza en base a n_tokens_title",
   "id": "56e0b616595fe6b7"
  },
  {
   "metadata": {
    "ExecuteTime": {
     "end_time": "2025-10-28T21:10:34.234622Z",
     "start_time": "2025-10-28T21:10:34.219941Z"
    }
   },
   "cell_type": "code",
   "source": [
    "antes = df.shape[0]\n",
    "atributo = \"n_tokens_title\"\n",
    "mask = (df[atributo] <= dict_resultado_tt[\"limite_superior\"])\n",
    "df = df[mask].reset_index(drop=True)\n",
    "despues = df.shape[0]\n",
    "print(f\"Antes: {antes} articulos, Despues: {despues} articulos, Eliminados: {antes-despues} articulos\")\n",
    "print(f\"Nuevo minimo de {atributo}: {df[atributo].min()} \\n\"\n",
    "      f\"Nuevo maximo de {atributo}: {df[atributo].max()}\")"
   ],
   "id": "d11e578f7d5b37bf",
   "outputs": [
    {
     "name": "stdout",
     "output_type": "stream",
     "text": [
      "Antes: 36530 articulos, Despues: 36423 articulos, Eliminados: 107 articulos\n",
      "Nuevo minimo de n_tokens_title: 2.0 \n",
      "Nuevo maximo de n_tokens_title: 16.0\n"
     ]
    }
   ],
   "execution_count": 20
  },
  {
   "metadata": {},
   "cell_type": "markdown",
   "source": "#### Resultados finales de la limpieza vertical",
   "id": "9f0b50535f132eec"
  },
  {
   "metadata": {
    "ExecuteTime": {
     "end_time": "2025-10-28T21:10:37.451472Z",
     "start_time": "2025-10-28T21:10:37.447379Z"
    }
   },
   "cell_type": "code",
   "source": "print(f\"Antes: {inicial[0]} articulos, Despues: {despues} articulos, Eliminados: {inicial[0]-despues} articulos, Porcentaje eliminados: {(inicial[0]-despues)/inicial[0]*100:.2f}%\")",
   "id": "4fcaa4d75ebd0a6e",
   "outputs": [
    {
     "name": "stdout",
     "output_type": "stream",
     "text": [
      "Antes: 39644 articulos, Despues: 36423 articulos, Eliminados: 3221 articulos, Porcentaje eliminados: 8.12%\n"
     ]
    }
   ],
   "execution_count": 21
  },
  {
   "metadata": {},
   "cell_type": "markdown",
   "source": "# Limpieza horizontal - Atributos",
   "id": "b35fe6992b66f0bb"
  },
  {
   "metadata": {
    "ExecuteTime": {
     "end_time": "2025-10-28T21:10:48.383455Z",
     "start_time": "2025-10-28T21:10:48.379978Z"
    }
   },
   "cell_type": "code",
   "source": [
    "dic_atributos = fn.diccionario_tipos_atributos()\n",
    "atributos_a_eliminar = np.concatenate([dic_atributos['atributos_min_max_avg_terceros'], [\"url\", \"timedelta\"]])\n",
    "print(atributos_a_eliminar)"
   ],
   "id": "21240bdee11d469",
   "outputs": [
    {
     "name": "stdout",
     "output_type": "stream",
     "text": [
      "['kw_min_min' 'kw_max_min' 'kw_avg_min' 'kw_min_max' 'kw_max_max'\n",
      " 'kw_avg_max' 'kw_min_avg' 'kw_max_avg' 'kw_avg_avg'\n",
      " 'self_reference_min_shares' 'self_reference_max_shares'\n",
      " 'self_reference_avg_sharess' 'url' 'timedelta']\n"
     ]
    }
   ],
   "execution_count": 22
  },
  {
   "metadata": {
    "ExecuteTime": {
     "end_time": "2025-10-28T21:10:52.836734Z",
     "start_time": "2025-10-28T21:10:52.823368Z"
    }
   },
   "cell_type": "code",
   "source": [
    "\n",
    "df.drop(atributos_a_eliminar, axis=1, inplace=True)\n",
    "df.info()"
   ],
   "id": "fb40da6c1c7dcee9",
   "outputs": [
    {
     "name": "stdout",
     "output_type": "stream",
     "text": [
      "<class 'pandas.core.frame.DataFrame'>\n",
      "RangeIndex: 36423 entries, 0 to 36422\n",
      "Data columns (total 47 columns):\n",
      " #   Column                         Non-Null Count  Dtype  \n",
      "---  ------                         --------------  -----  \n",
      " 0   n_tokens_title                 36423 non-null  float64\n",
      " 1   n_tokens_content               36423 non-null  float64\n",
      " 2   n_unique_tokens                36423 non-null  float64\n",
      " 3   n_non_stop_words               36423 non-null  float64\n",
      " 4   n_non_stop_unique_tokens       36423 non-null  float64\n",
      " 5   num_hrefs                      36423 non-null  float64\n",
      " 6   num_self_hrefs                 36423 non-null  float64\n",
      " 7   num_imgs                       36423 non-null  float64\n",
      " 8   num_videos                     36423 non-null  float64\n",
      " 9   average_token_length           36423 non-null  float64\n",
      " 10  num_keywords                   36423 non-null  float64\n",
      " 11  data_channel_is_lifestyle      36423 non-null  float64\n",
      " 12  data_channel_is_entertainment  36423 non-null  float64\n",
      " 13  data_channel_is_bus            36423 non-null  float64\n",
      " 14  data_channel_is_socmed         36423 non-null  float64\n",
      " 15  data_channel_is_tech           36423 non-null  float64\n",
      " 16  data_channel_is_world          36423 non-null  float64\n",
      " 17  weekday_is_monday              36423 non-null  float64\n",
      " 18  weekday_is_tuesday             36423 non-null  float64\n",
      " 19  weekday_is_wednesday           36423 non-null  float64\n",
      " 20  weekday_is_thursday            36423 non-null  float64\n",
      " 21  weekday_is_friday              36423 non-null  float64\n",
      " 22  weekday_is_saturday            36423 non-null  float64\n",
      " 23  weekday_is_sunday              36423 non-null  float64\n",
      " 24  is_weekend                     36423 non-null  float64\n",
      " 25  LDA_00                         36423 non-null  float64\n",
      " 26  LDA_01                         36423 non-null  float64\n",
      " 27  LDA_02                         36423 non-null  float64\n",
      " 28  LDA_03                         36423 non-null  float64\n",
      " 29  LDA_04                         36423 non-null  float64\n",
      " 30  global_subjectivity            36423 non-null  float64\n",
      " 31  global_sentiment_polarity      36423 non-null  float64\n",
      " 32  global_rate_positive_words     36423 non-null  float64\n",
      " 33  global_rate_negative_words     36423 non-null  float64\n",
      " 34  rate_positive_words            36423 non-null  float64\n",
      " 35  rate_negative_words            36423 non-null  float64\n",
      " 36  avg_positive_polarity          36423 non-null  float64\n",
      " 37  min_positive_polarity          36423 non-null  float64\n",
      " 38  max_positive_polarity          36423 non-null  float64\n",
      " 39  avg_negative_polarity          36423 non-null  float64\n",
      " 40  min_negative_polarity          36423 non-null  float64\n",
      " 41  max_negative_polarity          36423 non-null  float64\n",
      " 42  title_subjectivity             36423 non-null  float64\n",
      " 43  title_sentiment_polarity       36423 non-null  float64\n",
      " 44  abs_title_subjectivity         36423 non-null  float64\n",
      " 45  abs_title_sentiment_polarity   36423 non-null  float64\n",
      " 46  shares                         36423 non-null  int64  \n",
      "dtypes: float64(46), int64(1)\n",
      "memory usage: 13.1 MB\n"
     ]
    }
   ],
   "execution_count": 23
  },
  {
   "metadata": {},
   "cell_type": "markdown",
   "source": "# Importacion a csv limpio",
   "id": "a2db7909b6f4fe5d"
  },
  {
   "metadata": {
    "ExecuteTime": {
     "end_time": "2025-10-28T21:19:16.674781Z",
     "start_time": "2025-10-28T21:19:15.607480Z"
    }
   },
   "cell_type": "code",
   "source": "df.to_csv('../dataset/datos_limpios.csv', index=False)",
   "id": "a4c22adb75b6b7f0",
   "outputs": [],
   "execution_count": 28
  }
 ],
 "metadata": {
  "kernelspec": {
   "display_name": "Python 3",
   "language": "python",
   "name": "python3"
  },
  "language_info": {
   "codemirror_mode": {
    "name": "ipython",
    "version": 2
   },
   "file_extension": ".py",
   "mimetype": "text/x-python",
   "name": "python",
   "nbconvert_exporter": "python",
   "pygments_lexer": "ipython2",
   "version": "2.7.6"
  }
 },
 "nbformat": 4,
 "nbformat_minor": 5
}
