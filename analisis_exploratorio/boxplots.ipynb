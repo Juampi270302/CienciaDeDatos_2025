{
 "cells": [
  {
   "cell_type": "code",
   "id": "initial_id",
   "metadata": {
    "collapsed": true,
    "ExecuteTime": {
     "end_time": "2025-10-03T02:06:55.931082Z",
     "start_time": "2025-10-03T02:06:55.887530Z"
    }
   },
   "source": [
    "import plotly.express as px\n",
    "from analisis_exploratorio.funciones import *\n",
    "import plotly.io as pio"
   ],
   "outputs": [],
   "execution_count": 1
  },
  {
   "metadata": {
    "ExecuteTime": {
     "end_time": "2025-10-03T02:06:56.118581Z",
     "start_time": "2025-10-03T02:06:55.935168Z"
    }
   },
   "cell_type": "code",
   "source": [
    "df = cargar_datos()\n",
    "dict_atributos = diccionario_tipos_atributos()"
   ],
   "id": "71115eed2f8daca9",
   "outputs": [],
   "execution_count": 2
  },
  {
   "metadata": {
    "ExecuteTime": {
     "end_time": "2025-10-03T02:06:56.125972Z",
     "start_time": "2025-10-03T02:06:56.123832Z"
    }
   },
   "cell_type": "code",
   "source": [
    "def graficar_boxplots(campo):\n",
    "    fig = px.box(df,\n",
    "                 y=campo,\n",
    "                 title=\"Distribución de shares\")\n",
    "    #fig.show(renderer=\"browser\")\n",
    "    pio.write_html(fig, file=f\"./graficos/boxplots/boxplot_{campo}.html\", auto_open=False, full_html=True, include_plotlyjs='cdn')"
   ],
   "id": "33fbe629a3e31f4f",
   "outputs": [],
   "execution_count": 3
  },
  {
   "metadata": {
    "ExecuteTime": {
     "end_time": "2025-10-03T02:06:57.931105Z",
     "start_time": "2025-10-03T02:06:56.171097Z"
    }
   },
   "cell_type": "code",
   "source": [
    "for grupo_atr, atributos in dict_atributos.items():\n",
    "    for atributo in atributos:\n",
    "        graficar_boxplots(atributo)\n",
    "        #print(atributo)\n",
    "#graficar_boxplots(\"n_tokens_content\")"
   ],
   "id": "65132703e71c74e8",
   "outputs": [],
   "execution_count": 4
  }
 ],
 "metadata": {
  "kernelspec": {
   "display_name": "Python 3",
   "language": "python",
   "name": "python3"
  },
  "language_info": {
   "codemirror_mode": {
    "name": "ipython",
    "version": 2
   },
   "file_extension": ".py",
   "mimetype": "text/x-python",
   "name": "python",
   "nbconvert_exporter": "python",
   "pygments_lexer": "ipython2",
   "version": "2.7.6"
  }
 },
 "nbformat": 4,
 "nbformat_minor": 5
}
