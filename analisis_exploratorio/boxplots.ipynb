{
 "cells": [
  {
   "cell_type": "code",
   "id": "initial_id",
   "metadata": {
    "collapsed": true,
    "ExecuteTime": {
     "end_time": "2025-09-26T12:12:14.569959Z",
     "start_time": "2025-09-26T12:12:14.561481Z"
    }
   },
   "source": [
    "import plotly.express as px\n",
    "from analisis_exploratorio.funciones import *\n",
    "import plotly.io as pio"
   ],
   "outputs": [],
   "execution_count": 23
  },
  {
   "metadata": {
    "ExecuteTime": {
     "end_time": "2025-09-26T12:20:04.866415Z",
     "start_time": "2025-09-26T12:20:04.253853Z"
    }
   },
   "cell_type": "code",
   "source": [
    "df = cargar_datos()\n",
    "dict_atributos = diccionario_tipos_atributos()"
   ],
   "id": "71115eed2f8daca9",
   "outputs": [],
   "execution_count": 27
  },
  {
   "metadata": {
    "ExecuteTime": {
     "end_time": "2025-09-26T12:50:37.717454Z",
     "start_time": "2025-09-26T12:50:37.712225Z"
    }
   },
   "cell_type": "code",
   "source": [
    "def graficar_boxplots(campo):\n",
    "    fig = px.box(df,\n",
    "                 y=campo,\n",
    "                 title=\"Distribución de shares\")\n",
    "    #fig.show(renderer=\"browser\")\n",
    "    pio.write_html(fig, file=f\"./graficos/boxplots/boxplot_{campo}.html\", auto_open=False, full_html=True, include_plotlyjs='cdn')"
   ],
   "id": "33fbe629a3e31f4f",
   "outputs": [],
   "execution_count": 41
  },
  {
   "metadata": {
    "ExecuteTime": {
     "end_time": "2025-09-26T12:50:43.935371Z",
     "start_time": "2025-09-26T12:50:43.720880Z"
    }
   },
   "cell_type": "code",
   "source": [
    "for grupo_atr, atributos in dict_atributos.items():\n",
    "    for atributo in atributos:\n",
    "        graficar_boxplots(df[atributo])\n",
    "        #print(atributo)\n",
    "#graficar_boxplots(\"n_tokens_content\")"
   ],
   "id": "65132703e71c74e8",
   "outputs": [
    {
     "ename": "OSError",
     "evalue": "[Errno 22] Invalid argument: 'graficos\\\\boxplots\\\\boxplot_0        12.0\\n1         9.0\\n2         9.0\\n3         9.0\\n4        13.0\\n         ... \\n39639    11.0\\n39640    12.0\\n39641    10.0\\n39642     6.0\\n39643    10.0\\nName: n_tokens_title, Length: 39644, dtype: float64.html'",
     "output_type": "error",
     "traceback": [
      "\u001B[31m---------------------------------------------------------------------------\u001B[39m",
      "\u001B[31mOSError\u001B[39m                                   Traceback (most recent call last)",
      "\u001B[36mCell\u001B[39m\u001B[36m \u001B[39m\u001B[32mIn[43]\u001B[39m\u001B[32m, line 3\u001B[39m\n\u001B[32m      1\u001B[39m \u001B[38;5;28;01mfor\u001B[39;00m grupo_atr, atributos \u001B[38;5;129;01min\u001B[39;00m dict_atributos.items():\n\u001B[32m      2\u001B[39m     \u001B[38;5;28;01mfor\u001B[39;00m atributo \u001B[38;5;129;01min\u001B[39;00m atributos:\n\u001B[32m----> \u001B[39m\u001B[32m3\u001B[39m         \u001B[43mgraficar_boxplots\u001B[49m\u001B[43m(\u001B[49m\u001B[43mdf\u001B[49m\u001B[43m[\u001B[49m\u001B[43matributo\u001B[49m\u001B[43m]\u001B[49m\u001B[43m)\u001B[49m\n\u001B[32m      4\u001B[39m         \u001B[38;5;66;03m#print(atributo)\u001B[39;00m\n\u001B[32m      5\u001B[39m \u001B[38;5;66;03m#graficar_boxplots(\"n_tokens_content\")\u001B[39;00m\n",
      "\u001B[36mCell\u001B[39m\u001B[36m \u001B[39m\u001B[32mIn[41]\u001B[39m\u001B[32m, line 6\u001B[39m, in \u001B[36mgraficar_boxplots\u001B[39m\u001B[34m(campo)\u001B[39m\n\u001B[32m      2\u001B[39m fig = px.box(df,\n\u001B[32m      3\u001B[39m              y=campo,\n\u001B[32m      4\u001B[39m              title=\u001B[33m\"\u001B[39m\u001B[33mDistribución de shares\u001B[39m\u001B[33m\"\u001B[39m)\n\u001B[32m      5\u001B[39m \u001B[38;5;66;03m#fig.show(renderer=\"browser\")\u001B[39;00m\n\u001B[32m----> \u001B[39m\u001B[32m6\u001B[39m \u001B[43mpio\u001B[49m\u001B[43m.\u001B[49m\u001B[43mwrite_html\u001B[49m\u001B[43m(\u001B[49m\u001B[43mfig\u001B[49m\u001B[43m,\u001B[49m\u001B[43m \u001B[49m\u001B[43mfile\u001B[49m\u001B[43m=\u001B[49m\u001B[33;43mf\u001B[39;49m\u001B[33;43m\"\u001B[39;49m\u001B[33;43m./graficos/boxplots/boxplot_\u001B[39;49m\u001B[38;5;132;43;01m{\u001B[39;49;00m\u001B[43mcampo\u001B[49m\u001B[38;5;132;43;01m}\u001B[39;49;00m\u001B[33;43m.html\u001B[39;49m\u001B[33;43m\"\u001B[39;49m\u001B[43m,\u001B[49m\u001B[43m \u001B[49m\u001B[43mauto_open\u001B[49m\u001B[43m=\u001B[49m\u001B[38;5;28;43;01mFalse\u001B[39;49;00m\u001B[43m,\u001B[49m\u001B[43m \u001B[49m\u001B[43mfull_html\u001B[49m\u001B[43m=\u001B[49m\u001B[38;5;28;43;01mTrue\u001B[39;49;00m\u001B[43m,\u001B[49m\u001B[43m \u001B[49m\u001B[43minclude_plotlyjs\u001B[49m\u001B[43m=\u001B[49m\u001B[33;43m'\u001B[39;49m\u001B[33;43mcdn\u001B[39;49m\u001B[33;43m'\u001B[39;49m\u001B[43m)\u001B[49m\n",
      "\u001B[36mFile \u001B[39m\u001B[32m~\\Repositorios\\Facultad\\2025\\CDD\\CienciaDeDatos_2025\\conda_env\\Lib\\site-packages\\plotly\\io\\_html.py:503\u001B[39m, in \u001B[36mwrite_html\u001B[39m\u001B[34m(fig, file, config, auto_play, include_plotlyjs, include_mathjax, post_script, full_html, animation_opts, validate, default_width, default_height, auto_open, div_id)\u001B[39m\n\u001B[32m    500\u001B[39m \u001B[38;5;66;03m# Write HTML string\u001B[39;00m\n\u001B[32m    501\u001B[39m \u001B[38;5;28;01mif\u001B[39;00m path \u001B[38;5;129;01mis\u001B[39;00m \u001B[38;5;129;01mnot\u001B[39;00m \u001B[38;5;28;01mNone\u001B[39;00m:\n\u001B[32m    502\u001B[39m     \u001B[38;5;66;03m# To use a different file encoding, pass a file descriptor\u001B[39;00m\n\u001B[32m--> \u001B[39m\u001B[32m503\u001B[39m     \u001B[43mpath\u001B[49m\u001B[43m.\u001B[49m\u001B[43mwrite_text\u001B[49m\u001B[43m(\u001B[49m\u001B[43mhtml_str\u001B[49m\u001B[43m,\u001B[49m\u001B[43m \u001B[49m\u001B[33;43m\"\u001B[39;49m\u001B[33;43mutf-8\u001B[39;49m\u001B[33;43m\"\u001B[39;49m\u001B[43m)\u001B[49m\n\u001B[32m    504\u001B[39m \u001B[38;5;28;01melse\u001B[39;00m:\n\u001B[32m    505\u001B[39m     file.write(html_str)\n",
      "\u001B[36mFile \u001B[39m\u001B[32m~\\Repositorios\\Facultad\\2025\\CDD\\CienciaDeDatos_2025\\conda_env\\Lib\\pathlib.py:1047\u001B[39m, in \u001B[36mPath.write_text\u001B[39m\u001B[34m(self, data, encoding, errors, newline)\u001B[39m\n\u001B[32m   1044\u001B[39m     \u001B[38;5;28;01mraise\u001B[39;00m \u001B[38;5;167;01mTypeError\u001B[39;00m(\u001B[33m'\u001B[39m\u001B[33mdata must be str, not \u001B[39m\u001B[38;5;132;01m%s\u001B[39;00m\u001B[33m'\u001B[39m %\n\u001B[32m   1045\u001B[39m                     data.\u001B[34m__class__\u001B[39m.\u001B[34m__name__\u001B[39m)\n\u001B[32m   1046\u001B[39m encoding = io.text_encoding(encoding)\n\u001B[32m-> \u001B[39m\u001B[32m1047\u001B[39m \u001B[38;5;28;01mwith\u001B[39;00m \u001B[38;5;28;43mself\u001B[39;49m\u001B[43m.\u001B[49m\u001B[43mopen\u001B[49m\u001B[43m(\u001B[49m\u001B[43mmode\u001B[49m\u001B[43m=\u001B[49m\u001B[33;43m'\u001B[39;49m\u001B[33;43mw\u001B[39;49m\u001B[33;43m'\u001B[39;49m\u001B[43m,\u001B[49m\u001B[43m \u001B[49m\u001B[43mencoding\u001B[49m\u001B[43m=\u001B[49m\u001B[43mencoding\u001B[49m\u001B[43m,\u001B[49m\u001B[43m \u001B[49m\u001B[43merrors\u001B[49m\u001B[43m=\u001B[49m\u001B[43merrors\u001B[49m\u001B[43m,\u001B[49m\u001B[43m \u001B[49m\u001B[43mnewline\u001B[49m\u001B[43m=\u001B[49m\u001B[43mnewline\u001B[49m\u001B[43m)\u001B[49m \u001B[38;5;28;01mas\u001B[39;00m f:\n\u001B[32m   1048\u001B[39m     \u001B[38;5;28;01mreturn\u001B[39;00m f.write(data)\n",
      "\u001B[36mFile \u001B[39m\u001B[32m~\\Repositorios\\Facultad\\2025\\CDD\\CienciaDeDatos_2025\\conda_env\\Lib\\pathlib.py:1013\u001B[39m, in \u001B[36mPath.open\u001B[39m\u001B[34m(self, mode, buffering, encoding, errors, newline)\u001B[39m\n\u001B[32m   1011\u001B[39m \u001B[38;5;28;01mif\u001B[39;00m \u001B[33m\"\u001B[39m\u001B[33mb\u001B[39m\u001B[33m\"\u001B[39m \u001B[38;5;129;01mnot\u001B[39;00m \u001B[38;5;129;01min\u001B[39;00m mode:\n\u001B[32m   1012\u001B[39m     encoding = io.text_encoding(encoding)\n\u001B[32m-> \u001B[39m\u001B[32m1013\u001B[39m \u001B[38;5;28;01mreturn\u001B[39;00m \u001B[43mio\u001B[49m\u001B[43m.\u001B[49m\u001B[43mopen\u001B[49m\u001B[43m(\u001B[49m\u001B[38;5;28;43mself\u001B[39;49m\u001B[43m,\u001B[49m\u001B[43m \u001B[49m\u001B[43mmode\u001B[49m\u001B[43m,\u001B[49m\u001B[43m \u001B[49m\u001B[43mbuffering\u001B[49m\u001B[43m,\u001B[49m\u001B[43m \u001B[49m\u001B[43mencoding\u001B[49m\u001B[43m,\u001B[49m\u001B[43m \u001B[49m\u001B[43merrors\u001B[49m\u001B[43m,\u001B[49m\u001B[43m \u001B[49m\u001B[43mnewline\u001B[49m\u001B[43m)\u001B[49m\n",
      "\u001B[31mOSError\u001B[39m: [Errno 22] Invalid argument: 'graficos\\\\boxplots\\\\boxplot_0        12.0\\n1         9.0\\n2         9.0\\n3         9.0\\n4        13.0\\n         ... \\n39639    11.0\\n39640    12.0\\n39641    10.0\\n39642     6.0\\n39643    10.0\\nName: n_tokens_title, Length: 39644, dtype: float64.html'"
     ]
    }
   ],
   "execution_count": 43
  }
 ],
 "metadata": {
  "kernelspec": {
   "display_name": "Python 3",
   "language": "python",
   "name": "python3"
  },
  "language_info": {
   "codemirror_mode": {
    "name": "ipython",
    "version": 2
   },
   "file_extension": ".py",
   "mimetype": "text/x-python",
   "name": "python",
   "nbconvert_exporter": "python",
   "pygments_lexer": "ipython2",
   "version": "2.7.6"
  }
 },
 "nbformat": 4,
 "nbformat_minor": 5
}
