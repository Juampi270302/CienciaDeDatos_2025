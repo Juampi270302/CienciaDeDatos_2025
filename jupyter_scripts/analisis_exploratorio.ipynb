{
 "cells": [
  {
   "cell_type": "code",
   "id": "initial_id",
   "metadata": {
    "collapsed": true
   },
   "source": [
    "from itertools import count\n",
    "\n",
    "import pandas as pd\n",
    "import numpy as np\n",
    "import seaborn as sns\n",
    "import matplotlib.pyplot as plt\n",
    "import plotly.express as px"
   ],
   "outputs": [],
   "execution_count": null
  },
  {
   "metadata": {},
   "cell_type": "code",
   "source": "df = pd.read_csv('../dataset/OnlineNewsPopularity.csv', skipinitialspace=True)",
   "id": "c8668566d444c231",
   "outputs": [],
   "execution_count": null
  },
  {
   "metadata": {},
   "cell_type": "markdown",
   "source": "No tenemos valores faltantes en nuestro dataset",
   "id": "b52c987bab6ac5df"
  },
  {
   "metadata": {},
   "cell_type": "markdown",
   "source": "#### Tipos de datos y busqueda de valores nulos",
   "id": "c9f0b3eb801d4ce8"
  },
  {
   "metadata": {},
   "cell_type": "code",
   "source": "df.info()",
   "id": "bbf6981e0187f8e0",
   "outputs": [],
   "execution_count": null
  },
  {
   "metadata": {},
   "cell_type": "markdown",
   "source": [
    "Si bien todos los valroes numericos son tipo float64, algunos representan valores binarios (0 o 1) y otros representan conteos o tasas. Se separaran estos para realizar los analisis estadisticos basicos\n",
    "No se observan valores nulos en ninguna columna."
   ],
   "id": "606c94428af6d7b7"
  },
  {
   "metadata": {},
   "cell_type": "code",
   "source": [
    "atributos_cantidad = np.array(['n_tokens_title', 'n_tokens_content', 'n_unique_tokens', 'n_non_stop_words', 'n_non_stop_unique_tokens', 'num_hrefs', 'num_self_hrefs', 'num_imgs', 'num_videos',  'average_token_length', 'num_keywords'])\n",
    "\n",
    "atributos_tematica = np.array(['data_channel_is_lifestyle', 'data_channel_is_entertainment', 'data_channel_is_bus', 'data_channel_is_socmed', 'data_channel_is_tech', 'data_channel_is_world'])\n",
    "\n",
    "atributos_min_max_avg_terceros = np.array(['kw_min_min', 'kw_max_min', 'kw_avg_min', 'kw_min_max', 'kw_max_max', 'kw_avg_max', 'kw_min_avg', 'kw_max_avg', 'kw_avg_avg', 'self_reference_min_shares', 'self_reference_max_shares', 'self_reference_avg_sharess'])\n",
    "\n",
    "atributos_dia_semana =np.array(['weekday_is_monday', 'weekday_is_tuesday', 'weekday_is_wednesday', 'weekday_is_thursday', 'weekday_is_friday', 'weekday_is_saturday', 'weekday_is_sunday', 'is_weekend'])\n",
    "\n",
    "atributos_cercania_tema = np.array(['LDA_00', 'LDA_01', 'LDA_02', 'LDA_03', 'LDA_04'])\n",
    "\n",
    "atributos_polaridad_sentimiento_subjetividad = np.array(['global_subjectivity', 'global_sentiment_polarity', 'global_rate_positive_words', 'global_rate_negative_words', 'rate_positive_words', 'rate_negative_words', 'avg_negative_polarity', 'min_negative_polarity', 'max_negative_polarity', 'avg_positive_polarity', 'min_positive_polarity', 'max_positive_polarity', 'title_subjectivity', 'title_sentiment_polarity', 'abs_title_subjectivity', 'abs_title_sentiment_polarity'])\n",
    "\n",
    "atributos_numericos = np.concatenate([\n",
    "    atributos_cantidad,\n",
    "    atributos_min_max_avg_terceros,\n",
    "    atributos_cercania_tema,\n",
    "    atributos_polaridad_sentimiento_subjetividad\n",
    "])\n",
    "\n",
    "# Recordar que share y los dos primeros no son predictivos\n",
    "print(len(atributos_cantidad) + len(atributos_tematica) + len(atributos_min_max_avg_terceros) + len(atributos_dia_semana) + len(atributos_cercania_tema) + len(atributos_polaridad_sentimiento_subjetividad))"
   ],
   "id": "7bc2dadf32796160",
   "outputs": [],
   "execution_count": null
  },
  {
   "metadata": {},
   "cell_type": "markdown",
   "source": "##### Estadistica descripiva de los atributos numericos (No boleeanos)",
   "id": "f00d470a22b17526"
  },
  {
   "metadata": {},
   "cell_type": "code",
   "source": [
    "df[atributos_numericos].describe().T\n",
    "#df[atributos_cantidad + atributos_min_max_avg_terceros].describe().T"
   ],
   "id": "98d7e16f9e447bbd",
   "outputs": [],
   "execution_count": null
  },
  {
   "metadata": {},
   "cell_type": "markdown",
   "source": "##### Graficos de distribucion de los atributos numericos (No booleanos)",
   "id": "2e894fa31331715b"
  },
  {
   "metadata": {},
   "cell_type": "code",
   "source": [
    "def dibujar_histograma(atributos, df):\n",
    "    for atributo in atributos:\n",
    "        fig = px.histogram(df, x=atributo, nbins=25, title=f'Distribución de {atributo}')\n",
    "        fig.show()"
   ],
   "id": "510d5e7b8ef7d17f",
   "outputs": [],
   "execution_count": null
  },
  {
   "metadata": {},
   "cell_type": "markdown",
   "source": "###### Histogramas de atributos de cantidad",
   "id": "415a8ae480deb2cd"
  },
  {
   "metadata": {},
   "cell_type": "code",
   "source": [
    "dibujar_histograma(atributos_cantidad, df)\n",
    "\n",
    "\n",
    "\n"
   ],
   "id": "44ec67fb3f5ab10a",
   "outputs": [],
   "execution_count": null
  },
  {
   "metadata": {},
   "cell_type": "markdown",
   "source": "###### Histogramas de atributos de min, max y avg de terceros",
   "id": "848c129492dd4ee3"
  },
  {
   "metadata": {},
   "cell_type": "code",
   "source": "dibujar_histograma(atributos_min_max_avg_terceros, df)",
   "id": "8d11d09e58e20203",
   "outputs": [],
   "execution_count": null
  },
  {
   "metadata": {},
   "cell_type": "markdown",
   "source": "###### Histogramas de atributos de polaridad, sentimiento y subjetividad",
   "id": "500dc62811c4000"
  },
  {
   "metadata": {},
   "cell_type": "code",
   "source": "dibujar_histograma(atributos_polaridad_sentimiento_subjetividad, df)",
   "id": "7c6974877324222d",
   "outputs": [],
   "execution_count": null
  },
  {
   "metadata": {},
   "cell_type": "markdown",
   "source": "###### Histogramas de atributos de cercania a temas LDA",
   "id": "7dd561170c57511d"
  },
  {
   "metadata": {},
   "cell_type": "code",
   "source": "dibujar_histograma(atributos_cercania_tema, df)",
   "id": "ed3c3deb03bf398a",
   "outputs": [],
   "execution_count": null
  },
  {
   "metadata": {},
   "cell_type": "markdown",
   "source": "##### Distribucion de publicaciones en los dias de semana",
   "id": "8034eab5b42580e6"
  },
  {
   "metadata": {},
   "cell_type": "code",
   "source": [
    "conteo_dias = df[atributos_dia_semana].sum().reset_index()\n",
    "conteo_dias.columns = ['dia', 'cantidad_publicaciones']\n",
    "\n",
    "fig = px.bar(conteo_dias, x='dia', y='cantidad_publicaciones')\n",
    "fig.show()"
   ],
   "id": "e7388adc07508b27",
   "outputs": [],
   "execution_count": null
  },
  {
   "metadata": {},
   "cell_type": "markdown",
   "source": "##### Distribucion de publicaciones por canal tematico",
   "id": "e58c409b0a17b342"
  },
  {
   "metadata": {},
   "cell_type": "code",
   "source": [
    "conteo_temas = df[atributos_tematica].sum().reset_index()\n",
    "conteo_temas.columns = ['tema', 'cantidad_por_tema']\n",
    "\n",
    "fig = px.bar(conteo_temas, x='tema', y='cantidad_por_tema')\n",
    "fig.show()"
   ],
   "id": "99f3ec8f3fafd7a1",
   "outputs": [],
   "execution_count": null
  }
 ],
 "metadata": {
  "kernelspec": {
   "display_name": "Python 3",
   "language": "python",
   "name": "python3"
  },
  "language_info": {
   "codemirror_mode": {
    "name": "ipython",
    "version": 2
   },
   "file_extension": ".py",
   "mimetype": "text/x-python",
   "name": "python",
   "nbconvert_exporter": "python",
   "pygments_lexer": "ipython2",
   "version": "2.7.6"
  }
 },
 "nbformat": 4,
 "nbformat_minor": 5
}
