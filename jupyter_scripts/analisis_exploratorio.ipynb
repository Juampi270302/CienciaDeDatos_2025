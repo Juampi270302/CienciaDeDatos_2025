{
 "cells": [
  {
   "cell_type": "code",
   "id": "initial_id",
   "metadata": {
    "collapsed": true
   },
   "source": [
    "from itertools import count\n",
    "\n",
    "import pandas as pd\n",
    "import numpy as np\n",
    "import matplotlib.pyplot as plt\n",
    "import plotly.express as px"
   ],
   "outputs": [],
   "execution_count": null
  },
  {
   "cell_type": "code",
   "id": "c8668566d444c231",
   "metadata": {},
   "source": [
    "df = pd.read_csv('../dataset/OnlineNewsPopularity.csv', skipinitialspace=True)"
   ],
   "outputs": [],
   "execution_count": null
  },
  {
   "cell_type": "markdown",
   "id": "b52c987bab6ac5df",
   "metadata": {},
   "source": [
    "No tenemos valores faltantes en nuestro dataset"
   ]
  },
  {
   "cell_type": "markdown",
   "id": "c9f0b3eb801d4ce8",
   "metadata": {},
   "source": [
    "#### Tipos de datos y busqueda de valores nulos"
   ]
  },
  {
   "cell_type": "code",
   "id": "bbf6981e0187f8e0",
   "metadata": {},
   "source": [
    "df.info()"
   ],
   "outputs": [],
   "execution_count": null
  },
  {
   "cell_type": "markdown",
   "id": "606c94428af6d7b7",
   "metadata": {},
   "source": [
    "Si bien todos los valroes numericos son tipo float64, algunos representan valores binarios (0 o 1) y otros representan conteos o tasas. Se separaran estos para realizar los analisis estadisticos basicos\n",
    "No se observan valores nulos en ninguna columna."
   ]
  },
  {
   "cell_type": "code",
   "id": "7bc2dadf32796160",
   "metadata": {},
   "source": [
    "atributos_cantidad = np.array(['n_tokens_title', 'n_tokens_content', 'n_unique_tokens', 'n_non_stop_words', 'n_non_stop_unique_tokens', 'num_hrefs', 'num_self_hrefs', 'num_imgs', 'num_videos',  'average_token_length', 'num_keywords'])\n",
    "\n",
    "atributos_tematica = np.array(['data_channel_is_lifestyle', 'data_channel_is_entertainment', 'data_channel_is_bus', 'data_channel_is_socmed', 'data_channel_is_tech', 'data_channel_is_world'])\n",
    "\n",
    "atributos_min_max_avg_terceros = np.array(['kw_min_min', 'kw_max_min', 'kw_avg_min', 'kw_min_max', 'kw_max_max', 'kw_avg_max', 'kw_min_avg', 'kw_max_avg', 'kw_avg_avg', 'self_reference_min_shares', 'self_reference_max_shares', 'self_reference_avg_sharess'])\n",
    "\n",
    "atributos_dia_semana =np.array(['weekday_is_monday', 'weekday_is_tuesday', 'weekday_is_wednesday', 'weekday_is_thursday', 'weekday_is_friday', 'weekday_is_saturday', 'weekday_is_sunday', 'is_weekend'])\n",
    "\n",
    "atributos_cercania_tema = np.array(['LDA_00', 'LDA_01', 'LDA_02', 'LDA_03', 'LDA_04'])\n",
    "\n",
    "atributos_polaridad_sentimiento_subjetividad = np.array(['global_subjectivity', 'global_sentiment_polarity', 'global_rate_positive_words', 'global_rate_negative_words', 'rate_positive_words', 'rate_negative_words', 'avg_negative_polarity', 'min_negative_polarity', 'max_negative_polarity', 'avg_positive_polarity', 'min_positive_polarity', 'max_positive_polarity', 'title_subjectivity', 'title_sentiment_polarity', 'abs_title_subjectivity', 'abs_title_sentiment_polarity'])\n",
    "\n",
    "atributos_numericos = np.concatenate([\n",
    "    atributos_cantidad,\n",
    "    atributos_min_max_avg_terceros,\n",
    "    atributos_cercania_tema,\n",
    "    atributos_polaridad_sentimiento_subjetividad\n",
    "])\n",
    "\n",
    "# Recordar que share y los dos primeros no son predictivos\n",
    "print(len(atributos_cantidad) + len(atributos_tematica) + len(atributos_min_max_avg_terceros) + len(atributos_dia_semana) + len(atributos_cercania_tema) + len(atributos_polaridad_sentimiento_subjetividad))"
   ],
   "outputs": [],
   "execution_count": null
  },
  {
   "cell_type": "markdown",
   "id": "f00d470a22b17526",
   "metadata": {},
   "source": [
    "##### Estadistica descripiva de los atributos numericos (No boleeanos)"
   ]
  },
  {
   "cell_type": "code",
   "id": "98d7e16f9e447bbd",
   "metadata": {},
   "source": [
    "df[atributos_numericos].describe().T\n",
    "#df[atributos_cantidad + atributos_min_max_avg_terceros].describe().T"
   ],
   "outputs": [],
   "execution_count": null
  },
  {
   "cell_type": "markdown",
   "id": "2e894fa31331715b",
   "metadata": {},
   "source": [
    "##### Graficos de distribucion de los atributos numericos (No booleanos)"
   ]
  },
  {
   "cell_type": "code",
   "id": "510d5e7b8ef7d17f",
   "metadata": {},
   "source": [
    "def dibujar_histograma(atributos, df):\n",
    "    for atributo in atributos:\n",
    "        fig = px.histogram(df, x=atributo, nbins=25, title=f'Distribución de {atributo}')\n",
    "        fig.show()"
   ],
   "outputs": [],
   "execution_count": null
  },
  {
   "cell_type": "markdown",
   "id": "415a8ae480deb2cd",
   "metadata": {},
   "source": [
    "###### Histogramas de atributos de cantidad"
   ]
  },
  {
   "cell_type": "code",
   "id": "44ec67fb3f5ab10a",
   "metadata": {},
   "source": [
    "dibujar_histograma(atributos_cantidad, df)"
   ],
   "outputs": [],
   "execution_count": null
  },
  {
   "cell_type": "markdown",
   "id": "848c129492dd4ee3",
   "metadata": {},
   "source": [
    "###### Histogramas de atributos de min, max y avg de terceros"
   ]
  },
  {
   "cell_type": "code",
   "id": "279f9dd2",
   "metadata": {},
   "source": [
    "import nbformat\n",
    "print('nbformat version:', nbformat.__version__)"
   ],
   "outputs": [],
   "execution_count": null
  },
  {
   "cell_type": "code",
   "id": "8d11d09e58e20203",
   "metadata": {},
   "source": [
    "dibujar_histograma(atributos_min_max_avg_terceros, df)"
   ],
   "outputs": [],
   "execution_count": null
  },
  {
   "cell_type": "markdown",
   "id": "500dc62811c4000",
   "metadata": {},
   "source": [
    "###### Histogramas de atributos de polaridad, sentimiento y subjetividad"
   ]
  },
  {
   "cell_type": "code",
   "id": "7c6974877324222d",
   "metadata": {},
   "source": [
    "dibujar_histograma(atributos_polaridad_sentimiento_subjetividad, df)"
   ],
   "outputs": [],
   "execution_count": null
  },
  {
   "cell_type": "markdown",
   "id": "7dd561170c57511d",
   "metadata": {},
   "source": [
    "###### Histogramas de atributos de cercania a temas LDA"
   ]
  },
  {
   "cell_type": "code",
   "id": "ed3c3deb03bf398a",
   "metadata": {},
   "source": [
    "dibujar_histograma(atributos_cercania_tema, df)"
   ],
   "outputs": [],
   "execution_count": null
  },
  {
   "cell_type": "markdown",
   "id": "8034eab5b42580e6",
   "metadata": {},
   "source": [
    "##### Distribucion de publicaciones en los dias de semana"
   ]
  },
  {
   "cell_type": "code",
   "id": "e7388adc07508b27",
   "metadata": {},
   "source": [
    "conteo_dias = df[atributos_dia_semana].sum().reset_index()\n",
    "conteo_dias.columns = ['dia', 'cantidad_publicaciones']\n",
    "\n",
    "fig = px.bar(conteo_dias, x='dia', y='cantidad_publicaciones')\n",
    "fig.show()"
   ],
   "outputs": [],
   "execution_count": null
  },
  {
   "cell_type": "markdown",
   "id": "e58c409b0a17b342",
   "metadata": {},
   "source": [
    "##### Distribucion de publicaciones por canal tematico"
   ]
  },
  {
   "cell_type": "code",
   "id": "99f3ec8f3fafd7a1",
   "metadata": {},
   "source": [
    "conteo_temas = df[atributos_tematica].sum().reset_index()\n",
    "conteo_temas.columns = ['tema', 'cantidad_por_tema']\n",
    "\n",
    "fig = px.bar(conteo_temas, x='tema', y='cantidad_por_tema')\n",
    "fig.show()"
   ],
   "outputs": [],
   "execution_count": null
  }
 ],
 "metadata": {
  "kernelspec": {
   "display_name": "venv",
   "language": "python",
   "name": "python3"
  },
  "language_info": {
   "codemirror_mode": {
    "name": "ipython",
    "version": 3
   },
   "file_extension": ".py",
   "mimetype": "text/x-python",
   "name": "python",
   "nbconvert_exporter": "python",
   "pygments_lexer": "ipython3",
   "version": "3.13.7"
  }
 },
 "nbformat": 4,
 "nbformat_minor": 5
}
