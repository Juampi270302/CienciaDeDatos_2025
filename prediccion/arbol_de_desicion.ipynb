{
 "cells": [
  {
   "metadata": {
    "ExecuteTime": {
     "end_time": "2025-10-29T01:40:10.610288Z",
     "start_time": "2025-10-29T01:40:10.504608Z"
    }
   },
   "cell_type": "code",
   "source": [
    "import pandas as pd\n",
    "import numpy as np\n",
    "from sklearn.preprocessing import StandardScaler\n",
    "from sklearn.compose import ColumnTransformer\n",
    "from sklearn.pipeline import Pipeline\n",
    "from sklearn.tree import DecisionTreeRegressor\n",
    "from sklearn.metrics import mean_squared_error, mean_absolute_error, r2_score\n",
    "import joblib\n",
    "import funciones as fn"
   ],
   "id": "4d6b6d86df3531ff",
   "outputs": [],
   "execution_count": 1
  },
  {
   "metadata": {
    "ExecuteTime": {
     "end_time": "2025-10-29T01:40:12.177764Z",
     "start_time": "2025-10-29T01:40:12.038867Z"
    }
   },
   "cell_type": "code",
   "source": [
    "# Rutas y nombre de la columna objetivo\n",
    "train_path = \"dataset/train.csv\"\n",
    "val_path = \"dataset/val.csv\"\n",
    "test_path = \"dataset/test.csv\"\n",
    "target_column = \"shares\"\n",
    "\n",
    "# Cargar datos\n",
    "df_train = pd.read_csv(train_path)\n",
    "df_val = pd.read_csv(val_path)"
   ],
   "id": "28d0a408ecc7405f",
   "outputs": [],
   "execution_count": 2
  },
  {
   "metadata": {
    "ExecuteTime": {
     "end_time": "2025-10-29T00:58:23.623763Z",
     "start_time": "2025-10-29T00:58:23.621923Z"
    }
   },
   "cell_type": "code",
   "source": [
    "# Columnas especificadas manualmente vía funciones\n",
    "numeric_cols = fn.columnas_numericas()\n",
    "ohe_cols = fn.columnas_one_hot()\n",
    "use_imputer_for_ohe = False  # True si las OHE tienen NaNs"
   ],
   "id": "ea28bdbe9f80bacf",
   "outputs": [],
   "execution_count": 3
  },
  {
   "metadata": {
    "ExecuteTime": {
     "end_time": "2025-10-29T00:58:23.670889Z",
     "start_time": "2025-10-29T00:58:23.668107Z"
    }
   },
   "cell_type": "code",
   "source": [
    "# Validar existencia de columnas\n",
    "missing = [c for c in numeric_cols + ohe_cols + [target_column] if c not in df_train.columns]\n",
    "if missing:\n",
    "    raise ValueError(f\"Faltan columnas en `train`: {missing}\")\n",
    "missing = [c for c in numeric_cols + ohe_cols + [target_column] if c not in df_val.columns]\n",
    "if missing:\n",
    "    raise ValueError(f\"Faltan columnas en `val`: {missing}\")"
   ],
   "id": "d69e4b149f8427ae",
   "outputs": [],
   "execution_count": 4
  },
  {
   "metadata": {
    "ExecuteTime": {
     "end_time": "2025-10-29T00:58:23.720944Z",
     "start_time": "2025-10-29T00:58:23.715221Z"
    }
   },
   "cell_type": "code",
   "source": [
    "\n",
    "# Separar X / y\n",
    "X_train = df_train.drop(columns=[target_column])\n",
    "y_train = df_train[target_column]\n",
    "X_val = df_val.drop(columns=[target_column])\n",
    "y_val = df_val[target_column]\n",
    "# Log-transform de la variable objetivo\n",
    "# y_train_log = np.log1p(y_train)\n",
    "# y_val_log = np.log1p(y_val)\n",
    "# y_test_log = np.log1p(y_test)"
   ],
   "id": "f9b36ef340e8e3c5",
   "outputs": [],
   "execution_count": 5
  },
  {
   "metadata": {
    "ExecuteTime": {
     "end_time": "2025-10-29T00:58:25.262898Z",
     "start_time": "2025-10-29T00:58:23.765861Z"
    }
   },
   "cell_type": "code",
   "source": [
    "# Construir transformadores\n",
    "transformers = []\n",
    "if numeric_cols:\n",
    "    num_pipeline = Pipeline([('scaler', StandardScaler())])\n",
    "    transformers.append(('num', num_pipeline, numeric_cols))\n",
    "\n",
    "if ohe_cols:\n",
    "    if use_imputer_for_ohe:\n",
    "        from sklearn.impute import SimpleImputer\n",
    "        ohe_pipeline = Pipeline([('imputer', SimpleImputer(strategy='most_frequent'))])\n",
    "        transformers.append(('ohe_given', ohe_pipeline, ohe_cols))\n",
    "    else:\n",
    "        transformers.append(('ohe_given', 'passthrough', ohe_cols))\n",
    "\n",
    "if not transformers:\n",
    "    raise ValueError('No se definieron columnas numéricas ni OHE.')\n",
    "\n",
    "preprocessor = ColumnTransformer(transformers=transformers, remainder='drop')\n",
    "\n",
    "# Pipeline con Decision Tree Regressor\n",
    "pipeline = Pipeline([\n",
    "    ('preprocessor', preprocessor),\n",
    "    ('reg', DecisionTreeRegressor(random_state=42))\n",
    "])\n",
    "\n",
    "# Entrenar con log-target\n",
    "pipeline.fit(X_train, y_train)\n",
    "\n",
    "# Función de evaluación (se invierte log1p con expm1)\n",
    "def evaluar(nombre, X, y_true):\n",
    "    y_pred = pipeline.predict(X)\n",
    "    mse = mean_squared_error(y_true, y_pred)\n",
    "    rmse = np.sqrt(mse)\n",
    "    mae = mean_absolute_error(y_true, y_pred)\n",
    "    r2 = r2_score(y_true, y_pred)\n",
    "    print(f\"--- {nombre} ---\")\n",
    "    print(f\"MSE: {mse:.4f}\")\n",
    "    print(f\"RMSE: {rmse:.4f}\")\n",
    "    print(f\"MAE: {mae:.4f}\")\n",
    "    print(f\"R2: {r2:.4f}\")\n",
    "\n",
    "evaluar('validation', X_val, y_val)"
   ],
   "id": "f69e9513fb3133cb",
   "outputs": [
    {
     "name": "stdout",
     "output_type": "stream",
     "text": [
      "--- validation ---\n",
      "MSE: 278231791.3336\n",
      "RMSE: 16680.2815\n",
      "MAE: 4371.7020\n",
      "R2: -1.0802\n"
     ]
    }
   ],
   "execution_count": 6
  }
 ],
 "metadata": {
  "kernelspec": {
   "display_name": "Python 3",
   "language": "python",
   "name": "python3"
  },
  "language_info": {
   "codemirror_mode": {
    "name": "ipython",
    "version": 2
   },
   "file_extension": ".py",
   "mimetype": "text/x-python",
   "name": "python",
   "nbconvert_exporter": "python",
   "pygments_lexer": "ipython2",
   "version": "2.7.6"
  }
 },
 "nbformat": 4,
 "nbformat_minor": 5
}
