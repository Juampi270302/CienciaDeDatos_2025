{
 "cells": [
  {
   "cell_type": "code",
   "id": "initial_id",
   "metadata": {
    "collapsed": true,
    "ExecuteTime": {
     "end_time": "2025-10-29T01:30:14.821675Z",
     "start_time": "2025-10-29T01:30:14.818956Z"
    }
   },
   "source": [
    "import funciones as fn\n",
    "from pathlib import Path\n",
    "from sklearn.model_selection import train_test_split\n",
    "from scipy.stats import kstest, norm\n",
    "import numpy as np"
   ],
   "outputs": [],
   "execution_count": 55
  },
  {
   "metadata": {
    "ExecuteTime": {
     "end_time": "2025-10-29T01:30:14.985787Z",
     "start_time": "2025-10-29T01:30:14.865075Z"
    }
   },
   "cell_type": "code",
   "source": [
    "df = fn.cargar_datos_limpios()\n",
    "#df"
   ],
   "id": "cf36612a001b0958",
   "outputs": [],
   "execution_count": 56
  },
  {
   "metadata": {
    "ExecuteTime": {
     "end_time": "2025-10-29T01:30:15.018899Z",
     "start_time": "2025-10-29T01:30:14.990156Z"
    }
   },
   "cell_type": "code",
   "source": [
    "columnas_a_transformar = ['n_tokens_content', 'n_unique_tokens', 'num_hrefs', 'num_self_hrefs', 'num_imgs', 'num_videos', 'num_keywords', 'shares']\n",
    "\n",
    "# Aplica transformación logarítmica (usa log1p para evitar log(0))\n",
    "for col in columnas_a_transformar:\n",
    "    df[col + '_log'] = np.log1p(df[col])  # Crea nuevas columnas transformadas\n",
    "\n",
    "for col in columnas_a_transformar:\n",
    "    df.drop(columns=[col], inplace=True)\n",
    "    df.rename(columns={col + '_log': col}, inplace=True)"
   ],
   "id": "526ab810c72cac7f",
   "outputs": [],
   "execution_count": 57
  },
  {
   "metadata": {
    "ExecuteTime": {
     "end_time": "2025-10-29T01:30:16.301252Z",
     "start_time": "2025-10-29T01:30:15.035621Z"
    }
   },
   "cell_type": "code",
   "source": [
    "random_state = 42\n",
    "\n",
    "out_dir = Path('dataset')\n",
    "out_dir.mkdir(parents=True, exist_ok=True)\n",
    "\n",
    "# Separacion de 80% train, 20% temporal\n",
    "train_df, val_df = train_test_split(\n",
    "    df,\n",
    "    test_size=0.2,\n",
    "    random_state=random_state,\n",
    "    shuffle=True\n",
    ")\n",
    "\n",
    "train_df.to_csv(out_dir / 'train.csv', index=False)\n",
    "val_df.to_csv(out_dir / 'val.csv', index=False)"
   ],
   "id": "5a1b3f592439dbcc",
   "outputs": [],
   "execution_count": 58
  }
 ],
 "metadata": {
  "kernelspec": {
   "display_name": "Python 3",
   "language": "python",
   "name": "python3"
  },
  "language_info": {
   "codemirror_mode": {
    "name": "ipython",
    "version": 2
   },
   "file_extension": ".py",
   "mimetype": "text/x-python",
   "name": "python",
   "nbconvert_exporter": "python",
   "pygments_lexer": "ipython2",
   "version": "2.7.6"
  }
 },
 "nbformat": 4,
 "nbformat_minor": 5
}
