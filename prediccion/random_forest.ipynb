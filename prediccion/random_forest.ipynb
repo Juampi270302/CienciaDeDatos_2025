{
 "cells": [
  {
   "cell_type": "code",
   "id": "initial_id",
   "metadata": {
    "ExecuteTime": {
     "end_time": "2025-10-29T02:14:35.179487Z",
     "start_time": "2025-10-29T02:14:35.176298Z"
    }
   },
   "source": [
    "# python\n",
    "import pandas as pd\n",
    "import numpy as np\n",
    "from sklearn.preprocessing import StandardScaler\n",
    "from sklearn.compose import ColumnTransformer\n",
    "from sklearn.pipeline import Pipeline\n",
    "from sklearn.model_selection import RandomizedSearchCV\n",
    "from sklearn.ensemble import RandomForestRegressor\n",
    "from sklearn.metrics import mean_squared_error, mean_absolute_error, r2_score\n",
    "import joblib\n",
    "import funciones as fn"
   ],
   "outputs": [],
   "execution_count": 53
  },
  {
   "metadata": {
    "ExecuteTime": {
     "end_time": "2025-10-29T02:14:35.307897Z",
     "start_time": "2025-10-29T02:14:35.182972Z"
    }
   },
   "cell_type": "code",
   "source": [
    "# Rutas y nombre de la columna objetivo\n",
    "train_path = \"dataset/train.csv\"\n",
    "val_path = \"dataset/val.csv\"\n",
    "target_column = \"shares\"\n",
    "\n",
    "# Cargar datos\n",
    "df_train = pd.read_csv(train_path)\n",
    "df_val = pd.read_csv(val_path)"
   ],
   "id": "db98dc653b8a3081",
   "outputs": [],
   "execution_count": 54
  },
  {
   "metadata": {
    "ExecuteTime": {
     "end_time": "2025-10-29T02:14:35.314317Z",
     "start_time": "2025-10-29T02:14:35.312201Z"
    }
   },
   "cell_type": "code",
   "source": [
    "# Columnas especificadas manualmente vía funciones\n",
    "numeric_cols = fn.columnas_numericas()\n",
    "#numeric_cols = fn.columnas_cantidad()\n",
    "#ohe_cols = fn.columnas_one_hot()\n",
    "ohe_cols = fn.columnas_one_hot_dia_semana() + fn.columnas_one_hot_tematica()\n",
    "use_imputer_for_ohe = False  # True si las OHE tienen NaNs"
   ],
   "id": "b75e6783cea338fb",
   "outputs": [],
   "execution_count": 55
  },
  {
   "metadata": {
    "ExecuteTime": {
     "end_time": "2025-10-29T02:14:35.361870Z",
     "start_time": "2025-10-29T02:14:35.358450Z"
    }
   },
   "cell_type": "code",
   "source": [
    "\n",
    "# Validar existencia de columnas\n",
    "missing = [c for c in numeric_cols + ohe_cols + [target_column] if c not in df_train.columns]\n",
    "if missing:\n",
    "    raise ValueError(f\"Faltan columnas en `train`: {missing}\")\n",
    "missing = [c for c in numeric_cols + ohe_cols + [target_column] if c not in df_val.columns]\n",
    "if missing:\n",
    "    raise ValueError(f\"Faltan columnas en `val`: {missing}\")"
   ],
   "id": "cd9a2f1dad0a9ab2",
   "outputs": [],
   "execution_count": 56
  },
  {
   "metadata": {
    "ExecuteTime": {
     "end_time": "2025-10-29T02:14:35.410007Z",
     "start_time": "2025-10-29T02:14:35.404920Z"
    }
   },
   "cell_type": "code",
   "source": [
    "\n",
    "# Separar X / y\n",
    "X_train = df_train.drop(columns=[target_column])\n",
    "y_train = df_train[target_column]\n",
    "X_val = df_val.drop(columns=[target_column])\n",
    "y_val = df_val[target_column]"
   ],
   "id": "b6856740983ebf98",
   "outputs": [],
   "execution_count": 57
  },
  {
   "metadata": {
    "ExecuteTime": {
     "end_time": "2025-10-29T02:20:24.612013Z",
     "start_time": "2025-10-29T02:14:35.456691Z"
    }
   },
   "cell_type": "code",
   "source": [
    "# Construir transformadores\n",
    "transformers = []\n",
    "if numeric_cols:\n",
    "    num_pipeline = Pipeline([('scaler', StandardScaler())])\n",
    "    transformers.append(('num', num_pipeline, numeric_cols))\n",
    "\n",
    "if ohe_cols:\n",
    "    transformers.append(('ohe_given', 'passthrough', ohe_cols))\n",
    "\n",
    "if not transformers:\n",
    "    raise ValueError('No se definieron columnas numéricas ni OHE.')\n",
    "\n",
    "preprocessor = ColumnTransformer(transformers=transformers, remainder='drop')\n",
    "\n",
    "# Espacio de búsqueda de hiperparámetros\n",
    "param_distributions = {\n",
    "    'reg__n_estimators': [1000, 2000],\n",
    "    'reg__max_depth': [5, 10, 15, 20, 30, None],\n",
    "    'reg__min_samples_split': [2, 5, 10, 20],\n",
    "    'reg__min_samples_leaf': [1, 2, 4, 8],\n",
    "    'reg__max_features': ['sqrt', 'log2', 0.5, 0.75],\n",
    "    'reg__bootstrap': [True, False]\n",
    "}\n",
    "\n",
    "# Modelo base\n",
    "rf = RandomForestRegressor(random_state=42, n_jobs=-1)\n",
    "\n",
    "# Pipeline con el preprocesamiento + modelo\n",
    "pipeline = Pipeline([\n",
    "    ('preprocessor', preprocessor),\n",
    "    ('reg', rf)\n",
    "])\n",
    "\n",
    "# Búsqueda aleatoria de hiperparámetros\n",
    "random_search = RandomizedSearchCV(\n",
    "    estimator=pipeline,\n",
    "    param_distributions=param_distributions,\n",
    "    n_iter=5,\n",
    "    cv=3,\n",
    "    scoring='r2',\n",
    "    verbose=2,\n",
    "    random_state=42,\n",
    "    n_jobs=-1\n",
    ")\n",
    "\n",
    "# Entrenamiento con los datos transformados (usando log1p)\n",
    "random_search.fit(X_train, y_train)\n",
    "\n",
    "# Mejor modelo ya entrenado\n",
    "best_model = random_search.best_estimator_\n",
    "\n",
    "print(\"Mejores parámetros:\", random_search.best_params_)\n",
    "print(\"Mejor R2 (CV):\", random_search.best_score_)\n",
    "\n",
    "# Función de evaluación usando el mejor modelo\n",
    "def evaluar(nombre, X, y_true):\n",
    "    y_pred = np.expm1(best_model.predict(X))  # revertimos log1p\n",
    "    mse = mean_squared_error(y_true, y_pred)\n",
    "    rmse = np.sqrt(mse)\n",
    "    mae = mean_absolute_error(y_true, y_pred)\n",
    "    r2 = r2_score(y_true, y_pred)\n",
    "    print(f\"--- {nombre} ---\")\n",
    "    print(f\"MSE: {mse:.4f}\")\n",
    "    print(f\"RMSE: {rmse:.4f}\")\n",
    "    print(f\"MAE: {mae:.4f}\")\n",
    "    print(f\"R2: {r2:.4f}\")\n",
    "\n",
    "# Evaluar en validación\n",
    "evaluar('validation', X_val, np.expm1(y_val))"
   ],
   "id": "bc5533c557ed72c6",
   "outputs": [
    {
     "name": "stdout",
     "output_type": "stream",
     "text": [
      "Fitting 3 folds for each of 5 candidates, totalling 15 fits\n",
      "[CV] END reg__bootstrap=False, reg__max_depth=30, reg__max_features=sqrt, reg__min_samples_leaf=2, reg__min_samples_split=20, reg__n_estimators=1000; total time= 1.9min\n",
      "[CV] END reg__bootstrap=False, reg__max_depth=30, reg__max_features=sqrt, reg__min_samples_leaf=2, reg__min_samples_split=20, reg__n_estimators=1000; total time= 1.9min\n",
      "[CV] END reg__bootstrap=False, reg__max_depth=5, reg__max_features=0.5, reg__min_samples_leaf=8, reg__min_samples_split=10, reg__n_estimators=1000; total time= 1.9min\n",
      "[CV] END reg__bootstrap=False, reg__max_depth=5, reg__max_features=0.5, reg__min_samples_leaf=8, reg__min_samples_split=10, reg__n_estimators=1000; total time= 1.9min\n",
      "[CV] END reg__bootstrap=False, reg__max_depth=5, reg__max_features=0.5, reg__min_samples_leaf=8, reg__min_samples_split=10, reg__n_estimators=1000; total time= 1.9min\n",
      "[CV] END reg__bootstrap=False, reg__max_depth=30, reg__max_features=sqrt, reg__min_samples_leaf=2, reg__min_samples_split=20, reg__n_estimators=1000; total time= 1.9min\n",
      "[CV] END reg__bootstrap=False, reg__max_depth=None, reg__max_features=log2, reg__min_samples_leaf=4, reg__min_samples_split=5, reg__n_estimators=2000; total time= 2.9min\n",
      "[CV] END reg__bootstrap=False, reg__max_depth=None, reg__max_features=log2, reg__min_samples_leaf=4, reg__min_samples_split=5, reg__n_estimators=2000; total time= 2.9min\n",
      "[CV] END reg__bootstrap=False, reg__max_depth=None, reg__max_features=log2, reg__min_samples_leaf=4, reg__min_samples_split=5, reg__n_estimators=2000; total time= 2.9min\n",
      "[CV] END reg__bootstrap=False, reg__max_depth=15, reg__max_features=0.75, reg__min_samples_leaf=1, reg__min_samples_split=20, reg__n_estimators=1000; total time= 4.9min\n",
      "[CV] END reg__bootstrap=False, reg__max_depth=15, reg__max_features=0.75, reg__min_samples_leaf=1, reg__min_samples_split=20, reg__n_estimators=1000; total time= 4.9min\n",
      "[CV] END reg__bootstrap=False, reg__max_depth=15, reg__max_features=0.75, reg__min_samples_leaf=1, reg__min_samples_split=20, reg__n_estimators=1000; total time= 4.9min\n",
      "[CV] END reg__bootstrap=False, reg__max_depth=15, reg__max_features=0.75, reg__min_samples_leaf=2, reg__min_samples_split=5, reg__n_estimators=1000; total time= 3.5min\n",
      "[CV] END reg__bootstrap=False, reg__max_depth=15, reg__max_features=0.75, reg__min_samples_leaf=2, reg__min_samples_split=5, reg__n_estimators=1000; total time= 3.5min\n",
      "[CV] END reg__bootstrap=False, reg__max_depth=15, reg__max_features=0.75, reg__min_samples_leaf=2, reg__min_samples_split=5, reg__n_estimators=1000; total time= 3.5min\n",
      "Mejores parámetros: {'reg__n_estimators': 2000, 'reg__min_samples_split': 5, 'reg__min_samples_leaf': 4, 'reg__max_features': 'log2', 'reg__max_depth': None, 'reg__bootstrap': False}\n",
      "Mejor R2 (CV): 0.12398480142887736\n",
      "--- validation ---\n",
      "MSE: 134562537.7301\n",
      "RMSE: 11600.1094\n",
      "MAE: 2320.8601\n",
      "R2: -0.0060\n"
     ]
    }
   ],
   "execution_count": 58
  }
 ],
 "metadata": {
  "kernelspec": {
   "display_name": "Python 3",
   "language": "python",
   "name": "python3"
  },
  "language_info": {
   "codemirror_mode": {
    "name": "ipython",
    "version": 2
   },
   "file_extension": ".py",
   "mimetype": "text/x-python",
   "name": "python",
   "nbconvert_exporter": "python",
   "pygments_lexer": "ipython2",
   "version": "2.7.6"
  }
 },
 "nbformat": 4,
 "nbformat_minor": 5
}
