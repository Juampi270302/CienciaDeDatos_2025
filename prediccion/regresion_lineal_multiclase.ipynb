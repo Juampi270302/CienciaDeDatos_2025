{
 "cells": [
  {
   "metadata": {
    "ExecuteTime": {
     "end_time": "2025-10-29T00:57:45.047337Z",
     "start_time": "2025-10-29T00:57:45.043837Z"
    }
   },
   "cell_type": "code",
   "source": [
    "import pandas as pd\n",
    "import numpy as np\n",
    "from sklearn.preprocessing import StandardScaler\n",
    "from sklearn.compose import ColumnTransformer\n",
    "from sklearn.pipeline import Pipeline\n",
    "from sklearn.linear_model import ElasticNet, Ridge, LinearRegression\n",
    "from sklearn.metrics import mean_squared_error, mean_absolute_error, r2_score\n",
    "import joblib\n",
    "import funciones as fn"
   ],
   "id": "caea66923ff257bb",
   "outputs": [],
   "execution_count": 5
  },
  {
   "metadata": {},
   "cell_type": "markdown",
   "source": "cargamos los csv de train, val y test",
   "id": "84e38132957b2860"
  },
  {
   "metadata": {
    "ExecuteTime": {
     "end_time": "2025-10-29T00:57:45.165620Z",
     "start_time": "2025-10-29T00:57:45.056262Z"
    }
   },
   "cell_type": "code",
   "source": [
    "# Rutas y nombre de la columna objetivo (editar según corresponda)\n",
    "train_path = \"dataset/train.csv\"\n",
    "val_path = \"dataset/val.csv\"\n",
    "target_column = \"shares\"\n",
    "\n",
    "# Cargar datos\n",
    "df_train = pd.read_csv(train_path)\n",
    "df_val = pd.read_csv(val_path)"
   ],
   "id": "28eb3271cdf67c85",
   "outputs": [],
   "execution_count": 6
  },
  {
   "metadata": {},
   "cell_type": "markdown",
   "source": "Taemos las columnas a usar",
   "id": "7def83a0c3ea529f"
  },
  {
   "metadata": {
    "ExecuteTime": {
     "end_time": "2025-10-29T00:57:45.172240Z",
     "start_time": "2025-10-29T00:57:45.170142Z"
    }
   },
   "cell_type": "code",
   "source": [
    "# --- Especifica manualmente las columnas ---\n",
    "columnas_one_hot = fn.columnas_one_hot()\n",
    "columnas_numericas = fn.columnas_numericas()\n",
    "numeric_cols = columnas_numericas     # <-- reemplazar por tus columnas numéricas\n",
    "ohe_cols = columnas_one_hot # <-- reemplazar por tus columnas 0/1 ya one-hot\n",
    "use_imputer_for_ohe = False                  # True si las OHE pueden tener NaNs y quieres imputarlas"
   ],
   "id": "4f9de09179e8cdac",
   "outputs": [],
   "execution_count": 7
  },
  {
   "metadata": {},
   "cell_type": "markdown",
   "source": "Validar que las columnas existan en los datasets",
   "id": "386af69cf311c0c5"
  },
  {
   "metadata": {
    "ExecuteTime": {
     "end_time": "2025-10-29T00:57:45.222790Z",
     "start_time": "2025-10-29T00:57:45.219355Z"
    }
   },
   "cell_type": "code",
   "source": [
    "# Validar existencia de columnas\n",
    "missing = [c for c in numeric_cols + ohe_cols + [target_column] if c not in df_train.columns]\n",
    "if missing:\n",
    "    raise ValueError(f\"Faltan columnas en `train.csv`: {missing}\")\n",
    "\n",
    "missing = [c for c in numeric_cols + ohe_cols + [target_column] if c not in df_val.columns]\n",
    "if missing:\n",
    "    raise ValueError(f\"Faltan columnas en `val.csv`: {missing}\")"
   ],
   "id": "a4ef961cc14437d8",
   "outputs": [],
   "execution_count": 8
  },
  {
   "metadata": {},
   "cell_type": "markdown",
   "source": "Separamos las características y la variable objetivo",
   "id": "74de302d4e90b887"
  },
  {
   "metadata": {
    "ExecuteTime": {
     "end_time": "2025-10-29T00:57:45.279552Z",
     "start_time": "2025-10-29T00:57:45.273482Z"
    }
   },
   "cell_type": "code",
   "source": [
    "X_train = df_train.drop(columns=[target_column])\n",
    "y_train = df_train[target_column]\n",
    "X_val = df_val.drop(columns=[target_column])\n",
    "y_val = df_val[target_column]"
   ],
   "id": "55067cbd2ce4fba6",
   "outputs": [],
   "execution_count": 9
  },
  {
   "metadata": {},
   "cell_type": "markdown",
   "source": "Transofrmacion logaritmica de variable objetivo",
   "id": "f06f8719d815d657"
  },
  {
   "metadata": {
    "ExecuteTime": {
     "end_time": "2025-10-29T00:57:45.330275Z",
     "start_time": "2025-10-29T00:57:45.326597Z"
    }
   },
   "cell_type": "code",
   "source": [
    "y_train_log = np.log1p(y_train)\n",
    "y_val_log = np.log1p(y_val)"
   ],
   "id": "8578f6ddc17b1344",
   "outputs": [],
   "execution_count": 10
  },
  {
   "metadata": {},
   "cell_type": "markdown",
   "source": "Entrenamiento del modelo y validacion",
   "id": "b7672ef5f030198b"
  },
  {
   "cell_type": "code",
   "id": "initial_id",
   "metadata": {
    "collapsed": true,
    "ExecuteTime": {
     "end_time": "2025-10-29T00:57:45.440248Z",
     "start_time": "2025-10-29T00:57:45.382536Z"
    }
   },
   "source": [
    "# Construir transformadores (sin categorías)\n",
    "transformers = []\n",
    "if numeric_cols:\n",
    "    num_pipeline = Pipeline([('scaler', StandardScaler())])\n",
    "    transformers.append(('num', num_pipeline, numeric_cols))\n",
    "\n",
    "if ohe_cols:\n",
    "    transformers.append(('ohe_given', 'passthrough', ohe_cols))\n",
    "\n",
    "preprocessor = ColumnTransformer(transformers=transformers, remainder='drop')\n",
    "\n",
    "# pipeline = Pipeline([\n",
    "#     ('preprocessor', preprocessor),\n",
    "#     ('clf', LogisticRegression(multi_class='multinomial', solver='lbfgs', max_iter=1000))\n",
    "# ])\n",
    "\n",
    "# pipeline = Pipeline([\n",
    "#     ('preprocessor', preprocessor),\n",
    "#     ('reg', Ridge(alpha=1.0))\n",
    "# ])\n",
    "\n",
    "pipeline = Pipeline([\n",
    "    ('preprocessor', preprocessor),\n",
    "    ('reg', ElasticNet(alpha=1.0, l1_ratio=0.5, max_iter=10000, random_state=42))\n",
    "])\n",
    "\n",
    "# Entrenar con train.csv\n",
    "pipeline.fit(X_train, y_train_log)\n",
    "\n",
    "def evaluar(nombre, X, y_true):\n",
    "    y_pred_log = pipeline.predict(X)\n",
    "    y_pred = np.expm1(y_pred_log)\n",
    "\n",
    "    mse = mean_squared_error(y_true, y_pred)\n",
    "    rmse = np.sqrt(mse)\n",
    "    mae = mean_absolute_error(y_true, y_pred)\n",
    "    r2 = r2_score(y_true, y_pred)\n",
    "    print(f\"--- {nombre} ---\")\n",
    "    print(f\"MSE: {mse:.4f}\")\n",
    "    print(f\"RMSE: {rmse:.4f}\")\n",
    "    print(f\"MAE: {mae:.4f}\")\n",
    "    print(f\"R2: {r2:.4f}\")\n",
    "\n",
    "# Evaluar en `dataset/val.csv` y `dataset/test.csv`\n",
    "evaluar('validation', X_val, y_val)"
   ],
   "outputs": [
    {
     "name": "stdout",
     "output_type": "stream",
     "text": [
      "--- validation ---\n",
      "MSE: 136185433.6605\n",
      "RMSE: 11669.8515\n",
      "MAE: 2407.6442\n",
      "R2: -0.0182\n"
     ]
    }
   ],
   "execution_count": 11
  }
 ],
 "metadata": {
  "kernelspec": {
   "display_name": "Python 3",
   "language": "python",
   "name": "python3"
  },
  "language_info": {
   "codemirror_mode": {
    "name": "ipython",
    "version": 2
   },
   "file_extension": ".py",
   "mimetype": "text/x-python",
   "name": "python",
   "nbconvert_exporter": "python",
   "pygments_lexer": "ipython2",
   "version": "2.7.6"
  }
 },
 "nbformat": 4,
 "nbformat_minor": 5
}
